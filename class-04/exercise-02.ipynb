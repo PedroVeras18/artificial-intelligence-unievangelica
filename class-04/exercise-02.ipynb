{
 "cells": [
  {
   "cell_type": "code",
   "execution_count": null,
   "metadata": {},
   "outputs": [],
   "source": [
    "#Algoritmo que virifica se é humano ou espírito\n",
    "\n",
    "#caracteristicas\n",
    "# fala?\n",
    "# anda?\n",
    "# atravessa parede\n",
    "# tem corpo físico\n",
    "\n",
    "humano1 = [1, 0, 0, 1]\n",
    "humano2 = [1, 1, 0, 1]\n",
    "humano3 = [1, 1, 0, 1]\n",
    "humano4 = [0, 1, 0, 1]\n",
    "\n",
    "espirito1 = [0, 1, 1, 0]\n",
    "espirito2 = [1, 0, 1, 0]\n",
    "espirito3 = [1, 1, 1, 1]\n",
    "espirito4 = [0, 0, 0, 0]\n",
    "\n",
    "treino_x = [humano1, humano2, humano3, humano4, espirito1, espirito2, espirito3, espirito4]\n",
    "\n",
    "#1 - humano\n",
    "#0 - espírito\n",
    "\n",
    "treino_y = [1, 1, 1, 1, 0, 0, 0, 0]\n",
    "\n",
    "from sklearn.svm import LinearSVC\n",
    "\n",
    "modelo2 = LinearSVC()\n",
    "modelo2.fit(treino_x, treino_y)\n",
    "\n",
    "ser_misterioso = [1, 1, 0, 1]\n",
    "result = modelo2.predict([ser_misterioso])\n",
    "\n",
    "if result == 1:\n",
    "  print (\"Este ser é um humano\")\n",
    "else:\n",
    "  print (\"Este ser é um espírito\")"
   ]
  }
 ],
 "metadata": {
  "language_info": {
   "name": "python"
  }
 },
 "nbformat": 4,
 "nbformat_minor": 2
}
